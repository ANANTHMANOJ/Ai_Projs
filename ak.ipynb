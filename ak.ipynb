{
 "cells": [
  {
   "cell_type": "code",
   "execution_count": 47,
   "metadata": {},
   "outputs": [
    {
     "name": "stdout",
     "output_type": "stream",
     "text": [
      "3 5 30000\n"
     ]
    }
   ],
   "source": [
    "n,m,x=input().split()\n",
    "n=int(n)\n",
    "m=int(m)\n",
    "x=int(x)\n"
   ]
  },
  {
   "cell_type": "code",
   "execution_count": 48,
   "metadata": {},
   "outputs": [
    {
     "name": "stdout",
     "output_type": "stream",
     "text": [
      "8000 11000\n",
      "6000 9000\n",
      "4000 10000\n"
     ]
    }
   ],
   "source": [
    "current=[None]*(n)\n",
    "expected=[None]*n\n",
    "for i in range(n):\n",
    "    current[i],expected[i]=input().split()\n",
    "#calculate hike"
   ]
  },
  {
   "cell_type": "code",
   "execution_count": 49,
   "metadata": {},
   "outputs": [
    {
     "name": "stdout",
     "output_type": "stream",
     "text": [
      "[9000, 10000, 11000]\n"
     ]
    }
   ],
   "source": [
    "expected=list(map(int,expected))\n",
    "current=list(map(int,current))\n",
    "expected.sort()\n",
    "print(expected)"
   ]
  },
  {
   "cell_type": "code",
   "execution_count": 62,
   "metadata": {},
   "outputs": [
    {
     "name": "stdout",
     "output_type": "stream",
     "text": [
      "5000\n",
      "5000\n",
      "5000\n",
      "5000\n",
      "5000\n"
     ]
    }
   ],
   "source": [
    "candidates=[None]*(m)\n",
    "for i in range(m):\n",
    "    candidates[i]=input()\n",
    "candidates=list(map(int,candidates))"
   ]
  },
  {
   "cell_type": "code",
   "execution_count": 64,
   "metadata": {},
   "outputs": [
    {
     "name": "stdout",
     "output_type": "stream",
     "text": [
      "3 30000 [5000, 5000, 5000, 5000, 5000]\n",
      "0\n",
      "1\n",
      "2\n"
     ]
    }
   ],
   "source": [
    "count,i,j=n,0,0\n",
    "z=x-sum(current)\n",
    "print(count,x,candidates)\n",
    "while z>=0:\n",
    "    if candidates[i]< expected[j] and candidates[i]<x:\n",
    "        print(i)\n",
    "        count+=1\n",
    "        z=z-candidates[i]\n",
    "        i+=1\n",
    "    elif expected[i]<candidates[i] and expected[i]<x:\n",
    "        print(i)\n",
    "        z=z-expected[j]\n",
    "        j+=1"
   ]
  },
  {
   "cell_type": "code",
   "execution_count": null,
   "metadata": {},
   "outputs": [],
   "source": []
  }
 ],
 "metadata": {
  "kernelspec": {
   "display_name": "Python 3",
   "language": "python",
   "name": "python3"
  }
 },
 "nbformat": 4,
 "nbformat_minor": 2
}
